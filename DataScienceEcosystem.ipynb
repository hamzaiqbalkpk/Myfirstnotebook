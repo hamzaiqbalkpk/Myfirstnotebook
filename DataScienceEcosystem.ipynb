{
 "cells": [
  {
   "attachments": {},
   "cell_type": "markdown",
   "metadata": {},
   "source": [
    "<center>\n",
    "    <img src=\"https://cf-courses-data.s3.us.cloud-object-storage.appdomain.cloud/IBMDeveloperSkillsNetwork-DS0105EN-SkillsNetwork/labs/Module2/images/SN_web_lightmode.png\" width=\"300\" alt=\"cognitiveclass.ai logo\">\n",
    "</center>"
   ]
  },
  {
   "attachments": {},
   "cell_type": "markdown",
   "metadata": {},
   "source": [
    "#### Add your code below following the instructions given in the course"
   ]
  },
  {
   "attachments": {},
   "cell_type": "markdown",
   "metadata": {},
   "source": [
    "Exercise 2: Create markdown cell with title of the notebook\n",
    "\n",
    "# Data Science Tools and Ecosystem"
   ]
  },
  {
   "attachments": {},
   "cell_type": "markdown",
   "metadata": {},
   "source": [
    "*Exercise 3 - Create a markdown cell for an introduction*\n",
    "\n",
    "In this notebook, Data Science Tools and Ecosystem are summarized."
   ]
  },
  {
   "attachments": {},
   "cell_type": "markdown",
   "metadata": {},
   "source": [
    "**Objectives:**\n",
    "\n",
    "- List of popular languages for Data science\n",
    "- Libraries for Data science\n",
    "- Arithmatic expressions\n",
    "- Data Science tools"
   ]
  },
  {
   "attachments": {},
   "cell_type": "markdown",
   "metadata": {},
   "source": [
    "*Exercise 4 - Create a markdown cell to list data science languages*\n",
    "\n",
    "Some of the popular languages that Data Scientists use are:\n",
    "1) Python\n",
    "2) R\n",
    "3) Julia\n",
    "4) SQL"
   ]
  },
  {
   "attachments": {},
   "cell_type": "markdown",
   "metadata": {},
   "source": [
    "*Exercise 5 - Create a markdown cell to list data science libraries*\n",
    "\n",
    "Some of the commonly used libraries used by Data Scientists include:\n",
    "1) Pandas\n",
    "2) Matplotlib\n",
    "3) Tensorflow\n",
    "4) Numpy\n",
    "5) SciPy"
   ]
  },
  {
   "attachments": {},
   "cell_type": "markdown",
   "metadata": {},
   "source": [
    "*Exercise 6 - Create a markdown cell with a table of Data Science tools*\n",
    "\n",
    "| Data Science Tools |\n",
    "|--------------------|\n",
    "|1-  Jupyter Notebooks |\n",
    "|2-  R Studio |\n",
    "|3-  Visual Studio |"
   ]
  },
  {
   "attachments": {},
   "cell_type": "markdown",
   "metadata": {},
   "source": [
    "*Exercise 7 - Create a markdown cell introducing arithmetic expression examples*\n",
    "### Below are a few examples of evaluating arithmetic expressions in Python\n",
    "\n",
    "1) a+b\n",
    "2) a-b\n",
    "3) a*b\n",
    "4) a/b\n"
   ]
  },
  {
   "attachments": {},
   "cell_type": "markdown",
   "metadata": {},
   "source": [
    "*Exercise 8 - Create a code cell to multiply and add numbers*"
   ]
  },
  {
   "cell_type": "code",
   "execution_count": 1,
   "metadata": {},
   "outputs": [
    {
     "data": {
      "text/plain": [
       "17"
      ]
     },
     "execution_count": 1,
     "metadata": {},
     "output_type": "execute_result"
    }
   ],
   "source": [
    "(3*4)+5\n",
    "\n",
    "# This a simple arithmetic expression to mutiply then add integers"
   ]
  },
  {
   "attachments": {},
   "cell_type": "markdown",
   "metadata": {},
   "source": [
    "*Exercise 9 - Create a code cell to convert minutes to hours*"
   ]
  },
  {
   "cell_type": "code",
   "execution_count": 2,
   "metadata": {},
   "outputs": [
    {
     "name": "stdout",
     "output_type": "stream",
     "text": [
      "3.3333333333333335\n"
     ]
    }
   ],
   "source": [
    "minutes = 200\n",
    "hours = minutes / 60\n",
    "print(hours)\n",
    "\n",
    "# This will convert 200 minutes to hours by diving by 60"
   ]
  },
  {
   "attachments": {},
   "cell_type": "markdown",
   "metadata": {},
   "source": [
    "*Exercise 11 - Create a markdown cell to indicate the Author's name*\n",
    "\n",
    "## Author\n",
    "Hamza Iqbal\n"
   ]
  },
  {
   "cell_type": "code",
   "execution_count": null,
   "metadata": {},
   "outputs": [],
   "source": [
    "https://github.com/hamzaiqbalkpk/Myfirstnotebook.git"
   ]
  }
 ],
 "metadata": {
  "kernelspec": {
   "display_name": "Myfirstenv",
   "language": "python",
   "name": "python3"
  },
  "language_info": {
   "codemirror_mode": {
    "name": "ipython",
    "version": 3
   },
   "file_extension": ".py",
   "mimetype": "text/x-python",
   "name": "python",
   "nbconvert_exporter": "python",
   "pygments_lexer": "ipython3",
   "version": "3.11.3"
  },
  "orig_nbformat": 4
 },
 "nbformat": 4,
 "nbformat_minor": 2
}
